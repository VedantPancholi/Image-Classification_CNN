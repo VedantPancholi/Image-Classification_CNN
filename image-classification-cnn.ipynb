{
 "cells": [
  {
   "cell_type": "code",
   "execution_count": 1,
   "id": "e96535c6",
   "metadata": {
    "_cell_guid": "b1076dfc-b9ad-4769-8c92-a6c4dae69d19",
    "_uuid": "8f2839f25d086af736a60e9eeb907d3b93b6e0e5",
    "execution": {
     "iopub.execute_input": "2024-12-29T17:31:13.191462Z",
     "iopub.status.busy": "2024-12-29T17:31:13.191195Z",
     "iopub.status.idle": "2024-12-29T17:31:21.187922Z",
     "shell.execute_reply": "2024-12-29T17:31:21.187212Z"
    },
    "papermill": {
     "duration": 8.005326,
     "end_time": "2024-12-29T17:31:21.189609",
     "exception": false,
     "start_time": "2024-12-29T17:31:13.184283",
     "status": "completed"
    },
    "tags": []
   },
   "outputs": [],
   "source": [
    "import tensorflow as tf\n",
    "from tensorflow.keras import datasets, layers, models\n",
    "import matplotlib.pyplot as plt\n",
    "import numpy as np"
   ]
  },
  {
   "cell_type": "markdown",
   "id": "47714ded",
   "metadata": {
    "papermill": {
     "duration": 0.004983,
     "end_time": "2024-12-29T17:31:21.200502",
     "exception": false,
     "start_time": "2024-12-29T17:31:21.195519",
     "status": "completed"
    },
    "tags": []
   },
   "source": [
    "Load the Dataset"
   ]
  },
  {
   "cell_type": "code",
   "execution_count": 2,
   "id": "56d4592f",
   "metadata": {
    "execution": {
     "iopub.execute_input": "2024-12-29T17:31:21.211667Z",
     "iopub.status.busy": "2024-12-29T17:31:21.211235Z",
     "iopub.status.idle": "2024-12-29T17:31:27.676612Z",
     "shell.execute_reply": "2024-12-29T17:31:27.675711Z"
    },
    "papermill": {
     "duration": 6.472297,
     "end_time": "2024-12-29T17:31:27.677908",
     "exception": false,
     "start_time": "2024-12-29T17:31:21.205611",
     "status": "completed"
    },
    "tags": []
   },
   "outputs": [
    {
     "name": "stdout",
     "output_type": "stream",
     "text": [
      "Downloading data from https://www.cs.toronto.edu/~kriz/cifar-10-python.tar.gz\n",
      "\u001b[1m170498071/170498071\u001b[0m \u001b[32m━━━━━━━━━━━━━━━━━━━━\u001b[0m\u001b[37m\u001b[0m \u001b[1m4s\u001b[0m 0us/step\n"
     ]
    },
    {
     "data": {
      "text/plain": [
       "(50000, 32, 32, 3)"
      ]
     },
     "execution_count": 2,
     "metadata": {},
     "output_type": "execute_result"
    }
   ],
   "source": [
    "(X_train, y_train), (X_test,y_test) = datasets.cifar10.load_data()\n",
    "X_train.shape"
   ]
  },
  {
   "cell_type": "code",
   "execution_count": 3,
   "id": "bd6da3b4",
   "metadata": {
    "execution": {
     "iopub.execute_input": "2024-12-29T17:31:27.696499Z",
     "iopub.status.busy": "2024-12-29T17:31:27.696240Z",
     "iopub.status.idle": "2024-12-29T17:31:27.700570Z",
     "shell.execute_reply": "2024-12-29T17:31:27.699793Z"
    },
    "papermill": {
     "duration": 0.014818,
     "end_time": "2024-12-29T17:31:27.701799",
     "exception": false,
     "start_time": "2024-12-29T17:31:27.686981",
     "status": "completed"
    },
    "tags": []
   },
   "outputs": [
    {
     "data": {
      "text/plain": [
       "(10000, 32, 32, 3)"
      ]
     },
     "execution_count": 3,
     "metadata": {},
     "output_type": "execute_result"
    }
   ],
   "source": [
    "X_test.shape"
   ]
  },
  {
   "cell_type": "markdown",
   "id": "4af01955",
   "metadata": {
    "papermill": {
     "duration": 0.008395,
     "end_time": "2024-12-29T17:31:27.718796",
     "exception": false,
     "start_time": "2024-12-29T17:31:27.710401",
     "status": "completed"
    },
    "tags": []
   },
   "source": [
    "Here we see there are 50000 training images and 1000 test images"
   ]
  },
  {
   "cell_type": "code",
   "execution_count": 4,
   "id": "406de77d",
   "metadata": {
    "execution": {
     "iopub.execute_input": "2024-12-29T17:31:27.736852Z",
     "iopub.status.busy": "2024-12-29T17:31:27.736625Z",
     "iopub.status.idle": "2024-12-29T17:31:27.740797Z",
     "shell.execute_reply": "2024-12-29T17:31:27.740024Z"
    },
    "papermill": {
     "duration": 0.01463,
     "end_time": "2024-12-29T17:31:27.741929",
     "exception": false,
     "start_time": "2024-12-29T17:31:27.727299",
     "status": "completed"
    },
    "tags": []
   },
   "outputs": [
    {
     "data": {
      "text/plain": [
       "(50000, 1)"
      ]
     },
     "execution_count": 4,
     "metadata": {},
     "output_type": "execute_result"
    }
   ],
   "source": [
    "y_train.shape"
   ]
  },
  {
   "cell_type": "code",
   "execution_count": 5,
   "id": "c7a38b41",
   "metadata": {
    "execution": {
     "iopub.execute_input": "2024-12-29T17:31:27.759961Z",
     "iopub.status.busy": "2024-12-29T17:31:27.759763Z",
     "iopub.status.idle": "2024-12-29T17:31:27.764289Z",
     "shell.execute_reply": "2024-12-29T17:31:27.763521Z"
    },
    "papermill": {
     "duration": 0.014997,
     "end_time": "2024-12-29T17:31:27.765502",
     "exception": false,
     "start_time": "2024-12-29T17:31:27.750505",
     "status": "completed"
    },
    "tags": []
   },
   "outputs": [
    {
     "data": {
      "text/plain": [
       "array([[6],\n",
       "       [9],\n",
       "       [9],\n",
       "       [4],\n",
       "       [1]], dtype=uint8)"
      ]
     },
     "execution_count": 5,
     "metadata": {},
     "output_type": "execute_result"
    }
   ],
   "source": [
    "y_train[:5]"
   ]
  },
  {
   "cell_type": "markdown",
   "id": "ab2f57d0",
   "metadata": {
    "papermill": {
     "duration": 0.008662,
     "end_time": "2024-12-29T17:31:27.783705",
     "exception": false,
     "start_time": "2024-12-29T17:31:27.775043",
     "status": "completed"
    },
    "tags": []
   },
   "source": [
    "y_train is a 2D array, for our classification having 1D array is good enough. so we will convert this to now 1D array"
   ]
  },
  {
   "cell_type": "code",
   "execution_count": 6,
   "id": "37adadff",
   "metadata": {
    "execution": {
     "iopub.execute_input": "2024-12-29T17:31:27.801793Z",
     "iopub.status.busy": "2024-12-29T17:31:27.801571Z",
     "iopub.status.idle": "2024-12-29T17:31:27.806046Z",
     "shell.execute_reply": "2024-12-29T17:31:27.805356Z"
    },
    "papermill": {
     "duration": 0.01487,
     "end_time": "2024-12-29T17:31:27.807382",
     "exception": false,
     "start_time": "2024-12-29T17:31:27.792512",
     "status": "completed"
    },
    "tags": []
   },
   "outputs": [
    {
     "data": {
      "text/plain": [
       "array([6, 9, 9, 4, 1], dtype=uint8)"
      ]
     },
     "execution_count": 6,
     "metadata": {},
     "output_type": "execute_result"
    }
   ],
   "source": [
    "y_train = y_train.reshape(-1,)\n",
    "y_train[:5]"
   ]
  },
  {
   "cell_type": "code",
   "execution_count": 7,
   "id": "2bf008a4",
   "metadata": {
    "execution": {
     "iopub.execute_input": "2024-12-29T17:31:27.827299Z",
     "iopub.status.busy": "2024-12-29T17:31:27.827068Z",
     "iopub.status.idle": "2024-12-29T17:31:27.829757Z",
     "shell.execute_reply": "2024-12-29T17:31:27.829200Z"
    },
    "papermill": {
     "duration": 0.013647,
     "end_time": "2024-12-29T17:31:27.830864",
     "exception": false,
     "start_time": "2024-12-29T17:31:27.817217",
     "status": "completed"
    },
    "tags": []
   },
   "outputs": [],
   "source": [
    "y_test = y_test.reshape(-1,)"
   ]
  },
  {
   "cell_type": "code",
   "execution_count": 8,
   "id": "4804ddac",
   "metadata": {
    "execution": {
     "iopub.execute_input": "2024-12-29T17:31:27.849318Z",
     "iopub.status.busy": "2024-12-29T17:31:27.849111Z",
     "iopub.status.idle": "2024-12-29T17:31:27.851898Z",
     "shell.execute_reply": "2024-12-29T17:31:27.851325Z"
    },
    "papermill": {
     "duration": 0.013377,
     "end_time": "2024-12-29T17:31:27.853121",
     "exception": false,
     "start_time": "2024-12-29T17:31:27.839744",
     "status": "completed"
    },
    "tags": []
   },
   "outputs": [],
   "source": [
    "classes = [\"airplane\",\"automobile\",\"bird\",\"cat\",\"deer\",\"dog\",\"frog\",\"horse\",\"ship\",\"truck\"]"
   ]
  },
  {
   "cell_type": "markdown",
   "id": "d91d9d83",
   "metadata": {
    "papermill": {
     "duration": 0.008454,
     "end_time": "2024-12-29T17:31:27.870413",
     "exception": false,
     "start_time": "2024-12-29T17:31:27.861959",
     "status": "completed"
    },
    "tags": []
   },
   "source": [
    "Plotting some images"
   ]
  },
  {
   "cell_type": "code",
   "execution_count": 9,
   "id": "b421cd5e",
   "metadata": {
    "execution": {
     "iopub.execute_input": "2024-12-29T17:31:27.888338Z",
     "iopub.status.busy": "2024-12-29T17:31:27.888132Z",
     "iopub.status.idle": "2024-12-29T17:31:27.891462Z",
     "shell.execute_reply": "2024-12-29T17:31:27.890840Z"
    },
    "papermill": {
     "duration": 0.013614,
     "end_time": "2024-12-29T17:31:27.892620",
     "exception": false,
     "start_time": "2024-12-29T17:31:27.879006",
     "status": "completed"
    },
    "tags": []
   },
   "outputs": [],
   "source": [
    "def plot_sample(X, y, index):\n",
    "    plt.figure(figsize = (15,2))\n",
    "    plt.imshow(X[index])\n",
    "    plt.xlabel(classes[y[index]])"
   ]
  },
  {
   "cell_type": "code",
   "execution_count": 10,
   "id": "5e217d00",
   "metadata": {
    "execution": {
     "iopub.execute_input": "2024-12-29T17:31:27.910965Z",
     "iopub.status.busy": "2024-12-29T17:31:27.910761Z",
     "iopub.status.idle": "2024-12-29T17:31:28.107966Z",
     "shell.execute_reply": "2024-12-29T17:31:28.107309Z"
    },
    "papermill": {
     "duration": 0.20782,
     "end_time": "2024-12-29T17:31:28.109251",
     "exception": false,
     "start_time": "2024-12-29T17:31:27.901431",
     "status": "completed"
    },
    "tags": []
   },
   "outputs": [
    {
     "data": {
      "image/png": "[encoded data removed]",
      "text/plain": [
       "<Figure size 1500x200 with 1 Axes>"
      ]
     },
     "metadata": {},
     "output_type": "display_data"
    }
   ],
   "source": [
    "plot_sample(X_train, y_train, 0)"
   ]
  },
  {
   "cell_type": "code",
   "execution_count": 11,
   "id": "6fc72939",
   "metadata": {
    "execution": {
     "iopub.execute_input": "2024-12-29T17:31:28.128221Z",
     "iopub.status.busy": "2024-12-29T17:31:28.127996Z",
     "iopub.status.idle": "2024-12-29T17:31:28.297953Z",
     "shell.execute_reply": "2024-12-29T17:31:28.297316Z"
    },
    "papermill": {
     "duration": 0.180766,
     "end_time": "2024-12-29T17:31:28.299165",
     "exception": false,
     "start_time": "2024-12-29T17:31:28.118399",
     "status": "completed"
    },
    "tags": []
   },
   "outputs": [
    {
     "data": {
      "image/png": "[encoded data removed]",
      "text/plain": [
       "<Figure size 1500x200 with 1 Axes>"
      ]
     },
     "metadata": {},
     "output_type": "display_data"
    }
   ],
   "source": [
    "plot_sample(X_train, y_train, 1)"
   ]
  },
  {
   "cell_type": "markdown",
   "id": "858e1e4d",
   "metadata": {
    "papermill": {
     "duration": 0.009073,
     "end_time": "2024-12-29T17:31:28.317502",
     "exception": false,
     "start_time": "2024-12-29T17:31:28.308429",
     "status": "completed"
    },
    "tags": []
   },
   "source": [
    "# Normalize the images to a number from 0 to 1. Image has 3 channels (R,G,B) and each value in the channel can range from 0 to 255. Hence to normalize in 0-->1 range, we need to divide it by 255"
   ]
  },
  {
   "cell_type": "code",
   "execution_count": 12,
   "id": "9477454a",
   "metadata": {
    "execution": {
     "iopub.execute_input": "2024-12-29T17:31:28.336746Z",
     "iopub.status.busy": "2024-12-29T17:31:28.336545Z",
     "iopub.status.idle": "2024-12-29T17:31:28.799957Z",
     "shell.execute_reply": "2024-12-29T17:31:28.799259Z"
    },
    "papermill": {
     "duration": 0.474722,
     "end_time": "2024-12-29T17:31:28.801601",
     "exception": false,
     "start_time": "2024-12-29T17:31:28.326879",
     "status": "completed"
    },
    "tags": []
   },
   "outputs": [],
   "source": [
    "X_train = X_train / 255.0\n",
    "X_test = X_test / 255.0"
   ]
  },
  {
   "cell_type": "markdown",
   "id": "425c9f3d",
   "metadata": {
    "papermill": {
     "duration": 0.009026,
     "end_time": "2024-12-29T17:31:28.820547",
     "exception": false,
     "start_time": "2024-12-29T17:31:28.811521",
     "status": "completed"
    },
    "tags": []
   },
   "source": [
    "# Simple ANN for image classification"
   ]
  },
  {
   "cell_type": "markdown",
   "id": "d3fc581a",
   "metadata": {
    "papermill": {
     "duration": 0.008875,
     "end_time": "2024-12-29T17:31:28.838676",
     "exception": false,
     "start_time": "2024-12-29T17:31:28.829801",
     "status": "completed"
    },
    "tags": []
   },
   "source": [
    "SoftMax - Normalize the value between 0 and 1\n",
    "ReLU - Remove nonlinearity\n",
    "Sigmoid "
   ]
  },
  {
   "cell_type": "code",
   "execution_count": 13,
   "id": "6a4945f5",
   "metadata": {
    "execution": {
     "iopub.execute_input": "2024-12-29T17:31:28.857729Z",
     "iopub.status.busy": "2024-12-29T17:31:28.857477Z",
     "iopub.status.idle": "2024-12-29T17:31:52.617832Z",
     "shell.execute_reply": "2024-12-29T17:31:52.616979Z"
    },
    "papermill": {
     "duration": 23.771413,
     "end_time": "2024-12-29T17:31:52.619156",
     "exception": false,
     "start_time": "2024-12-29T17:31:28.847743",
     "status": "completed"
    },
    "tags": []
   },
   "outputs": [
    {
     "name": "stderr",
     "output_type": "stream",
     "text": [
      "/usr/local/lib/python3.10/dist-packages/keras/src/layers/reshaping/flatten.py:37: UserWarning: Do not pass an `input_shape`/`input_dim` argument to a layer. When using Sequential models, prefer using an `Input(shape)` object as the first layer in the model instead.\n",
      "  super().__init__(**kwargs)\n"
     ]
    },
    {
     "name": "stdout",
     "output_type": "stream",
     "text": [
      "Epoch 1/5\n",
      "\u001b[1m1563/1563\u001b[0m \u001b[32m━━━━━━━━━━━━━━━━━━━━\u001b[0m\u001b[37m\u001b[0m \u001b[1m6s\u001b[0m 3ms/step - accuracy: 0.3091 - loss: 1.9287\n",
      "Epoch 2/5\n",
      "\u001b[1m1563/1563\u001b[0m \u001b[32m━━━━━━━━━━━━━━━━━━━━\u001b[0m\u001b[37m\u001b[0m \u001b[1m4s\u001b[0m 2ms/step - accuracy: 0.4222 - loss: 1.6389\n",
      "Epoch 3/5\n",
      "\u001b[1m1563/1563\u001b[0m \u001b[32m━━━━━━━━━━━━━━━━━━━━\u001b[0m\u001b[37m\u001b[0m \u001b[1m4s\u001b[0m 2ms/step - accuracy: 0.4531 - loss: 1.5466\n",
      "Epoch 4/5\n",
      "\u001b[1m1563/1563\u001b[0m \u001b[32m━━━━━━━━━━━━━━━━━━━━\u001b[0m\u001b[37m\u001b[0m \u001b[1m4s\u001b[0m 2ms/step - accuracy: 0.4761 - loss: 1.4889\n",
      "Epoch 5/5\n",
      "\u001b[1m1563/1563\u001b[0m \u001b[32m━━━━━━━━━━━━━━━━━━━━\u001b[0m\u001b[37m\u001b[0m \u001b[1m4s\u001b[0m 2ms/step - accuracy: 0.4952 - loss: 1.4349\n"
     ]
    },
    {
     "data": {
      "text/plain": [
       "<keras.src.callbacks.history.History at 0x7d4164129390>"
      ]
     },
     "execution_count": 13,
     "metadata": {},
     "output_type": "execute_result"
    }
   ],
   "source": [
    "ann = models.Sequential([\n",
    "        layers.Flatten(input_shape=(32,32,3)),\n",
    "        layers.Dense(3000, activation='relu'),\n",
    "        layers.Dense(1000, activation='relu'),\n",
    "        layers.Dense(10, activation='softmax')    \n",
    "    ])\n",
    "\n",
    "ann.compile(optimizer='SGD',\n",
    "              loss='sparse_categorical_crossentropy',\n",
    "              metrics=['accuracy'])\n",
    "\n",
    "ann.fit(X_train, y_train, epochs=5)"
   ]
  },
  {
   "cell_type": "markdown",
   "id": "06d03d8f",
   "metadata": {
    "papermill": {
     "duration": 0.025227,
     "end_time": "2024-12-29T17:31:52.671382",
     "exception": false,
     "start_time": "2024-12-29T17:31:52.646155",
     "status": "completed"
    },
    "tags": []
   },
   "source": [
    "**You can see that at the end of 5 epochs, accuracy is at around 49%**"
   ]
  },
  {
   "cell_type": "code",
   "execution_count": 14,
   "id": "eb63069d",
   "metadata": {
    "execution": {
     "iopub.execute_input": "2024-12-29T17:31:52.722965Z",
     "iopub.status.busy": "2024-12-29T17:31:52.722727Z",
     "iopub.status.idle": "2024-12-29T17:31:54.760786Z",
     "shell.execute_reply": "2024-12-29T17:31:54.759756Z"
    },
    "papermill": {
     "duration": 2.065417,
     "end_time": "2024-12-29T17:31:54.762240",
     "exception": false,
     "start_time": "2024-12-29T17:31:52.696823",
     "status": "completed"
    },
    "tags": []
   },
   "outputs": [
    {
     "name": "stdout",
     "output_type": "stream",
     "text": [
      "\u001b[1m313/313\u001b[0m \u001b[32m━━━━━━━━━━━━━━━━━━━━\u001b[0m\u001b[37m\u001b[0m \u001b[1m1s\u001b[0m 2ms/step\n",
      "Classification Report: \n",
      "               precision    recall  f1-score   support\n",
      "\n",
      "           0       0.45      0.61      0.52      1000\n",
      "           1       0.32      0.87      0.47      1000\n",
      "           2       0.42      0.28      0.33      1000\n",
      "           3       0.42      0.19      0.26      1000\n",
      "           4       0.57      0.21      0.31      1000\n",
      "           5       0.40      0.30      0.34      1000\n",
      "           6       0.50      0.50      0.50      1000\n",
      "           7       0.70      0.33      0.45      1000\n",
      "           8       0.61      0.49      0.54      1000\n",
      "           9       0.33      0.47      0.39      1000\n",
      "\n",
      "    accuracy                           0.43     10000\n",
      "   macro avg       0.47      0.43      0.41     10000\n",
      "weighted avg       0.47      0.43      0.41     10000\n",
      "\n"
     ]
    }
   ],
   "source": [
    "from sklearn.metrics import confusion_matrix , classification_report\n",
    "import numpy as np\n",
    "y_pred = ann.predict(X_test)\n",
    "y_pred_classes = [np.argmax(element) for element in y_pred]\n",
    "\n",
    "print(\"Classification Report: \\n\", classification_report(y_test, y_pred_classes))"
   ]
  },
  {
   "cell_type": "markdown",
   "id": "7baae35a",
   "metadata": {
    "papermill": {
     "duration": 0.025572,
     "end_time": "2024-12-29T17:31:54.814543",
     "exception": false,
     "start_time": "2024-12-29T17:31:54.788971",
     "status": "completed"
    },
    "tags": []
   },
   "source": [
    "# Now we are building CNN to train out images"
   ]
  },
  {
   "cell_type": "code",
   "execution_count": 15,
   "id": "88bdbe59",
   "metadata": {
    "execution": {
     "iopub.execute_input": "2024-12-29T17:31:54.867428Z",
     "iopub.status.busy": "2024-12-29T17:31:54.866939Z",
     "iopub.status.idle": "2024-12-29T17:31:54.907383Z",
     "shell.execute_reply": "2024-12-29T17:31:54.906456Z"
    },
    "papermill": {
     "duration": 0.068152,
     "end_time": "2024-12-29T17:31:54.908561",
     "exception": false,
     "start_time": "2024-12-29T17:31:54.840409",
     "status": "completed"
    },
    "tags": []
   },
   "outputs": [
    {
     "name": "stderr",
     "output_type": "stream",
     "text": [
      "/usr/local/lib/python3.10/dist-packages/keras/src/layers/convolutional/base_conv.py:107: UserWarning: Do not pass an `input_shape`/`input_dim` argument to a layer. When using Sequential models, prefer using an `Input(shape)` object as the first layer in the model instead.\n",
      "  super().__init__(activity_regularizer=activity_regularizer, **kwargs)\n"
     ]
    }
   ],
   "source": [
    "cnn = models.Sequential([\n",
    "    layers.Conv2D(filters=32, kernel_size=(3, 3), activation='relu', input_shape=(32, 32, 3)),\n",
    "    layers.MaxPooling2D((2, 2)),\n",
    "    \n",
    "    layers.Conv2D(filters=64, kernel_size=(3, 3), activation='relu'),\n",
    "    layers.MaxPooling2D((2, 2)),\n",
    "    \n",
    "    layers.Flatten(),\n",
    "    layers.Dense(64, activation='relu'),\n",
    "    layers.Dense(10, activation='softmax')\n",
    "])"
   ]
  },
  {
   "cell_type": "code",
   "execution_count": 16,
   "id": "813a1e1d",
   "metadata": {
    "execution": {
     "iopub.execute_input": "2024-12-29T17:31:54.961195Z",
     "iopub.status.busy": "2024-12-29T17:31:54.960945Z",
     "iopub.status.idle": "2024-12-29T17:31:54.967990Z",
     "shell.execute_reply": "2024-12-29T17:31:54.967412Z"
    },
    "papermill": {
     "duration": 0.034678,
     "end_time": "2024-12-29T17:31:54.969116",
     "exception": false,
     "start_time": "2024-12-29T17:31:54.934438",
     "status": "completed"
    },
    "tags": []
   },
   "outputs": [],
   "source": [
    "cnn.compile(optimizer='adam',\n",
    "              loss='sparse_categorical_crossentropy',\n",
    "              metrics=['accuracy'])"
   ]
  },
  {
   "cell_type": "code",
   "execution_count": 17,
   "id": "662178ef",
   "metadata": {
    "execution": {
     "iopub.execute_input": "2024-12-29T17:31:55.021301Z",
     "iopub.status.busy": "2024-12-29T17:31:55.021081Z",
     "iopub.status.idle": "2024-12-29T17:32:32.210667Z",
     "shell.execute_reply": "2024-12-29T17:32:32.209918Z"
    },
    "papermill": {
     "duration": 37.217011,
     "end_time": "2024-12-29T17:32:32.211819",
     "exception": false,
     "start_time": "2024-12-29T17:31:54.994808",
     "status": "completed"
    },
    "tags": []
   },
   "outputs": [
    {
     "name": "stdout",
     "output_type": "stream",
     "text": [
      "Epoch 1/10\n",
      "\u001b[1m1563/1563\u001b[0m \u001b[32m━━━━━━━━━━━━━━━━━━━━\u001b[0m\u001b[37m\u001b[0m \u001b[1m7s\u001b[0m 3ms/step - accuracy: 0.3895 - loss: 1.6727\n",
      "Epoch 2/10\n",
      "\u001b[1m1563/1563\u001b[0m \u001b[32m━━━━━━━━━━━━━━━━━━━━\u001b[0m\u001b[37m\u001b[0m \u001b[1m3s\u001b[0m 2ms/step - accuracy: 0.6128 - loss: 1.1131\n",
      "Epoch 3/10\n",
      "\u001b[1m1563/1563\u001b[0m \u001b[32m━━━━━━━━━━━━━━━━━━━━\u001b[0m\u001b[37m\u001b[0m \u001b[1m3s\u001b[0m 2ms/step - accuracy: 0.6680 - loss: 0.9518\n",
      "Epoch 4/10\n",
      "\u001b[1m1563/1563\u001b[0m \u001b[32m━━━━━━━━━━━━━━━━━━━━\u001b[0m\u001b[37m\u001b[0m \u001b[1m3s\u001b[0m 2ms/step - accuracy: 0.7009 - loss: 0.8592\n",
      "Epoch 5/10\n",
      "\u001b[1m1563/1563\u001b[0m \u001b[32m━━━━━━━━━━━━━━━━━━━━\u001b[0m\u001b[37m\u001b[0m \u001b[1m3s\u001b[0m 2ms/step - accuracy: 0.7302 - loss: 0.7831\n",
      "Epoch 6/10\n",
      "\u001b[1m1563/1563\u001b[0m \u001b[32m━━━━━━━━━━━━━━━━━━━━\u001b[0m\u001b[37m\u001b[0m \u001b[1m3s\u001b[0m 2ms/step - accuracy: 0.7503 - loss: 0.7196\n",
      "Epoch 7/10\n",
      "\u001b[1m1563/1563\u001b[0m \u001b[32m━━━━━━━━━━━━━━━━━━━━\u001b[0m\u001b[37m\u001b[0m \u001b[1m3s\u001b[0m 2ms/step - accuracy: 0.7695 - loss: 0.6678\n",
      "Epoch 8/10\n",
      "\u001b[1m1563/1563\u001b[0m \u001b[32m━━━━━━━━━━━━━━━━━━━━\u001b[0m\u001b[37m\u001b[0m \u001b[1m3s\u001b[0m 2ms/step - accuracy: 0.7849 - loss: 0.6166\n",
      "Epoch 9/10\n",
      "\u001b[1m1563/1563\u001b[0m \u001b[32m━━━━━━━━━━━━━━━━━━━━\u001b[0m\u001b[37m\u001b[0m \u001b[1m3s\u001b[0m 2ms/step - accuracy: 0.7989 - loss: 0.5764\n",
      "Epoch 10/10\n",
      "\u001b[1m1563/1563\u001b[0m \u001b[32m━━━━━━━━━━━━━━━━━━━━\u001b[0m\u001b[37m\u001b[0m \u001b[1m3s\u001b[0m 2ms/step - accuracy: 0.8120 - loss: 0.5388\n"
     ]
    },
    {
     "data": {
      "text/plain": [
       "<keras.src.callbacks.history.History at 0x7d4061c9fa00>"
      ]
     },
     "execution_count": 17,
     "metadata": {},
     "output_type": "execute_result"
    }
   ],
   "source": [
    "cnn.fit(X_train, y_train, epochs=10)"
   ]
  },
  {
   "cell_type": "markdown",
   "id": "3b4639ce",
   "metadata": {
    "papermill": {
     "duration": 0.052973,
     "end_time": "2024-12-29T17:32:32.320730",
     "exception": false,
     "start_time": "2024-12-29T17:32:32.267757",
     "status": "completed"
    },
    "tags": []
   },
   "source": [
    "**With CNN, at the end 5 epochs, accuracy was at around 70% which is a significant improvement over ANN. CNN's are best for image classification and gives superb accuracy. Also computation is much less compared to simple ANN as maxpooling reduces the image dimensions while still preserving the features**"
   ]
  },
  {
   "cell_type": "code",
   "execution_count": 18,
   "id": "487f0eed",
   "metadata": {
    "execution": {
     "iopub.execute_input": "2024-12-29T17:32:32.467557Z",
     "iopub.status.busy": "2024-12-29T17:32:32.467264Z",
     "iopub.status.idle": "2024-12-29T17:32:34.343018Z",
     "shell.execute_reply": "2024-12-29T17:32:34.342349Z"
    },
    "papermill": {
     "duration": 1.970263,
     "end_time": "2024-12-29T17:32:34.344326",
     "exception": false,
     "start_time": "2024-12-29T17:32:32.374063",
     "status": "completed"
    },
    "tags": []
   },
   "outputs": [
    {
     "name": "stdout",
     "output_type": "stream",
     "text": [
      "\u001b[1m313/313\u001b[0m \u001b[32m━━━━━━━━━━━━━━━━━━━━\u001b[0m\u001b[37m\u001b[0m \u001b[1m1s\u001b[0m 3ms/step - accuracy: 0.7006 - loss: 0.9238\n"
     ]
    },
    {
     "data": {
      "text/plain": [
       "[0.9437020421028137, 0.6976000070571899]"
      ]
     },
     "execution_count": 18,
     "metadata": {},
     "output_type": "execute_result"
    }
   ],
   "source": [
    "cnn.evaluate(X_test,y_test)"
   ]
  },
  {
   "cell_type": "code",
   "execution_count": 19,
   "id": "2ecb75e7",
   "metadata": {
    "execution": {
     "iopub.execute_input": "2024-12-29T17:32:34.453923Z",
     "iopub.status.busy": "2024-12-29T17:32:34.453683Z",
     "iopub.status.idle": "2024-12-29T17:32:35.768462Z",
     "shell.execute_reply": "2024-12-29T17:32:35.767503Z"
    },
    "papermill": {
     "duration": 1.370412,
     "end_time": "2024-12-29T17:32:35.769847",
     "exception": false,
     "start_time": "2024-12-29T17:32:34.399435",
     "status": "completed"
    },
    "tags": []
   },
   "outputs": [
    {
     "name": "stdout",
     "output_type": "stream",
     "text": [
      "\u001b[1m313/313\u001b[0m \u001b[32m━━━━━━━━━━━━━━━━━━━━\u001b[0m\u001b[37m\u001b[0m \u001b[1m1s\u001b[0m 2ms/step\n"
     ]
    },
    {
     "data": {
      "text/plain": [
       "array([[4.72659711e-03, 4.62179705e-05, 8.39444902e-03, 7.09473252e-01,\n",
       "        1.37054175e-02, 2.17604876e-01, 1.14221079e-02, 8.14915111e-05,\n",
       "        3.42718549e-02, 2.73649290e-04],\n",
       "       [1.36482076e-05, 1.75304560e-03, 3.25850351e-07, 4.86650116e-08,\n",
       "        9.76917214e-10, 1.28650668e-09, 4.05994349e-09, 5.86236115e-10,\n",
       "        9.98221099e-01, 1.17239924e-05],\n",
       "       [1.23390546e-02, 1.33885331e-02, 8.09939869e-04, 6.47496316e-04,\n",
       "        1.12514654e-05, 1.58117637e-05, 2.45432428e-04, 7.97513290e-04,\n",
       "        9.71222341e-01, 5.22677437e-04],\n",
       "       [1.22848772e-01, 4.84692166e-03, 6.98154792e-04, 4.63853683e-03,\n",
       "        4.43659927e-04, 4.20968136e-05, 3.46297384e-05, 1.62950993e-04,\n",
       "        8.66142988e-01, 1.41265147e-04],\n",
       "       [4.07816287e-06, 1.11677045e-05, 1.67410932e-02, 6.24569179e-03,\n",
       "        2.02049077e-01, 4.58127679e-03, 7.70114064e-01, 2.84903052e-07,\n",
       "        2.53152510e-04, 5.65797933e-08]], dtype=float32)"
      ]
     },
     "execution_count": 19,
     "metadata": {},
     "output_type": "execute_result"
    }
   ],
   "source": [
    "y_pred = cnn.predict(X_test)\n",
    "y_pred[:5]"
   ]
  },
  {
   "cell_type": "markdown",
   "id": "9d409d3c",
   "metadata": {
    "papermill": {
     "duration": 0.053764,
     "end_time": "2024-12-29T17:32:35.879625",
     "exception": false,
     "start_time": "2024-12-29T17:32:35.825861",
     "status": "completed"
    },
    "tags": []
   },
   "source": [
    "here 12 is the maximum element so for that index is 1 "
   ]
  },
  {
   "cell_type": "code",
   "execution_count": 20,
   "id": "11875565",
   "metadata": {
    "execution": {
     "iopub.execute_input": "2024-12-29T17:32:35.988894Z",
     "iopub.status.busy": "2024-12-29T17:32:35.988648Z",
     "iopub.status.idle": "2024-12-29T17:32:35.993594Z",
     "shell.execute_reply": "2024-12-29T17:32:35.992767Z"
    },
    "papermill": {
     "duration": 0.06146,
     "end_time": "2024-12-29T17:32:35.994776",
     "exception": false,
     "start_time": "2024-12-29T17:32:35.933316",
     "status": "completed"
    },
    "tags": []
   },
   "outputs": [
    {
     "data": {
      "text/plain": [
       "1"
      ]
     },
     "execution_count": 20,
     "metadata": {},
     "output_type": "execute_result"
    }
   ],
   "source": [
    "np.argmax([5,12,1,2])"
   ]
  },
  {
   "cell_type": "code",
   "execution_count": 21,
   "id": "b0c1075a",
   "metadata": {
    "execution": {
     "iopub.execute_input": "2024-12-29T17:32:36.104151Z",
     "iopub.status.busy": "2024-12-29T17:32:36.103893Z",
     "iopub.status.idle": "2024-12-29T17:32:36.124606Z",
     "shell.execute_reply": "2024-12-29T17:32:36.123948Z"
    },
    "papermill": {
     "duration": 0.077001,
     "end_time": "2024-12-29T17:32:36.125732",
     "exception": false,
     "start_time": "2024-12-29T17:32:36.048731",
     "status": "completed"
    },
    "tags": []
   },
   "outputs": [
    {
     "data": {
      "text/plain": [
       "[3, 8, 8, 8, 6, 6, 1, 6, 3, 1]"
      ]
     },
     "execution_count": 21,
     "metadata": {},
     "output_type": "execute_result"
    }
   ],
   "source": [
    "y_classes = [np.argmax(element) for element in y_pred]\n",
    "y_classes[:10]"
   ]
  },
  {
   "cell_type": "code",
   "execution_count": 22,
   "id": "daca8a4e",
   "metadata": {
    "execution": {
     "iopub.execute_input": "2024-12-29T17:32:36.235150Z",
     "iopub.status.busy": "2024-12-29T17:32:36.234898Z",
     "iopub.status.idle": "2024-12-29T17:32:36.239162Z",
     "shell.execute_reply": "2024-12-29T17:32:36.238504Z"
    },
    "papermill": {
     "duration": 0.060391,
     "end_time": "2024-12-29T17:32:36.240267",
     "exception": false,
     "start_time": "2024-12-29T17:32:36.179876",
     "status": "completed"
    },
    "tags": []
   },
   "outputs": [
    {
     "data": {
      "text/plain": [
       "array([3, 8, 8, 0, 6, 6, 1, 6, 3, 1], dtype=uint8)"
      ]
     },
     "execution_count": 22,
     "metadata": {},
     "output_type": "execute_result"
    }
   ],
   "source": [
    "y_test[:10]"
   ]
  },
  {
   "cell_type": "code",
   "execution_count": 23,
   "id": "9dc12023",
   "metadata": {
    "execution": {
     "iopub.execute_input": "2024-12-29T17:32:36.350688Z",
     "iopub.status.busy": "2024-12-29T17:32:36.350471Z",
     "iopub.status.idle": "2024-12-29T17:32:36.456805Z",
     "shell.execute_reply": "2024-12-29T17:32:36.455801Z"
    },
    "papermill": {
     "duration": 0.164596,
     "end_time": "2024-12-29T17:32:36.459228",
     "exception": false,
     "start_time": "2024-12-29T17:32:36.294632",
     "status": "completed"
    },
    "tags": []
   },
   "outputs": [
    {
     "data": {
      "image/png": "[encoded data removed]",
      "text/plain": [
       "<Figure size 1500x200 with 1 Axes>"
      ]
     },
     "metadata": {},
     "output_type": "display_data"
    }
   ],
   "source": [
    "plot_sample(X_test, y_test,0)"
   ]
  },
  {
   "cell_type": "code",
   "execution_count": 24,
   "id": "e795a9dc",
   "metadata": {
    "execution": {
     "iopub.execute_input": "2024-12-29T17:32:36.602982Z",
     "iopub.status.busy": "2024-12-29T17:32:36.602762Z",
     "iopub.status.idle": "2024-12-29T17:32:36.607145Z",
     "shell.execute_reply": "2024-12-29T17:32:36.606476Z"
    },
    "papermill": {
     "duration": 0.06078,
     "end_time": "2024-12-29T17:32:36.608294",
     "exception": false,
     "start_time": "2024-12-29T17:32:36.547514",
     "status": "completed"
    },
    "tags": []
   },
   "outputs": [
    {
     "data": {
      "text/plain": [
       "'cat'"
      ]
     },
     "execution_count": 24,
     "metadata": {},
     "output_type": "execute_result"
    }
   ],
   "source": [
    "classes[y_classes[0]]"
   ]
  },
  {
   "cell_type": "code",
   "execution_count": 25,
   "id": "91933cf0",
   "metadata": {
    "execution": {
     "iopub.execute_input": "2024-12-29T17:32:36.720655Z",
     "iopub.status.busy": "2024-12-29T17:32:36.720432Z",
     "iopub.status.idle": "2024-12-29T17:32:36.895506Z",
     "shell.execute_reply": "2024-12-29T17:32:36.894444Z"
    },
    "papermill": {
     "duration": 0.231938,
     "end_time": "2024-12-29T17:32:36.896887",
     "exception": false,
     "start_time": "2024-12-29T17:32:36.664949",
     "status": "completed"
    },
    "tags": []
   },
   "outputs": [
    {
     "data": {
      "image/png": "[encoded data removed]",
      "text/plain": [
       "<Figure size 1500x200 with 1 Axes>"
      ]
     },
     "metadata": {},
     "output_type": "display_data"
    }
   ],
   "source": [
    "plot_sample(X_test, y_test,30)"
   ]
  },
  {
   "cell_type": "code",
   "execution_count": 26,
   "id": "6641951a",
   "metadata": {
    "execution": {
     "iopub.execute_input": "2024-12-29T17:32:37.017994Z",
     "iopub.status.busy": "2024-12-29T17:32:37.017749Z",
     "iopub.status.idle": "2024-12-29T17:32:37.022339Z",
     "shell.execute_reply": "2024-12-29T17:32:37.021543Z"
    },
    "papermill": {
     "duration": 0.06562,
     "end_time": "2024-12-29T17:32:37.023635",
     "exception": false,
     "start_time": "2024-12-29T17:32:36.958015",
     "status": "completed"
    },
    "tags": []
   },
   "outputs": [
    {
     "data": {
      "text/plain": [
       "'frog'"
      ]
     },
     "execution_count": 26,
     "metadata": {},
     "output_type": "execute_result"
    }
   ],
   "source": [
    "classes[y_classes[30]]"
   ]
  },
  {
   "cell_type": "code",
   "execution_count": null,
   "id": "a1fc246e",
   "metadata": {
    "papermill": {
     "duration": 0.054887,
     "end_time": "2024-12-29T17:32:37.133615",
     "exception": false,
     "start_time": "2024-12-29T17:32:37.078728",
     "status": "completed"
    },
    "tags": []
   },
   "outputs": [],
   "source": []
  }
 ],
 "metadata": {
  "kaggle": {
   "accelerator": "nvidiaTeslaT4",
   "dataSources": [],
   "dockerImageVersionId": 30823,
   "isGpuEnabled": true,
   "isInternetEnabled": true,
   "language": "python",
   "sourceType": "notebook"
  },
  "kernelspec": {
   "display_name": "Python 3",
   "language": "python",
   "name": "python3"
  },
  "language_info": {
   "codemirror_mode": {
    "name": "ipython",
    "version": 3
   },
   "file_extension": ".py",
   "mimetype": "text/x-python",
   "name": "python",
   "nbconvert_exporter": "python",
   "pygments_lexer": "ipython3",
   "version": "3.10.12"
  },
  "papermill": {
   "default_parameters": {},
   "duration": 87.756678,
   "end_time": "2024-12-29T17:32:38.809618",
   "environment_variables": {},
   "exception": null,
   "input_path": "__notebook__.ipynb",
   "output_path": "__notebook__.ipynb",
   "parameters": {},
   "start_time": "2024-12-29T17:31:11.052940",
   "version": "2.6.0"
  }
 },
 "nbformat": 4,
 "nbformat_minor": 5
}
